{
 "cells": [
  {
   "cell_type": "code",
   "execution_count": 1,
   "id": "69d0b97c-069c-427c-82a7-ac89ad8c56fb",
   "metadata": {},
   "outputs": [],
   "source": [
    "import numpy as np\n",
    "import math"
   ]
  },
  {
   "cell_type": "markdown",
   "id": "3b534ebb-7482-4fff-9212-78b01958b748",
   "metadata": {},
   "source": [
    "## Q,K,V initialization"
   ]
  },
  {
   "cell_type": "code",
   "execution_count": 4,
   "id": "2cfb387f-ee6e-4923-bde1-4693d89ee793",
   "metadata": {},
   "outputs": [
    {
     "name": "stdout",
     "output_type": "stream",
     "text": [
      "Q : [[-0.1462297   0.18463536 -0.88324794 -0.55202271 -1.04985477 -1.95115135\n",
      "   0.48051216  0.59826787]\n",
      " [ 1.73108945 -0.69956396  0.03309819  1.31288266  1.32810858  0.866713\n",
      "   0.03702245 -1.07291343]\n",
      " [-0.25582001  0.01669755  0.57919926 -1.39397291  2.57557182  0.97933429\n",
      "   0.52932116  1.76887839]\n",
      " [ 0.94190329  1.34571507 -0.09997985 -0.78801489  0.69189524  0.32106299\n",
      "   0.58877883 -0.39450409]] \n",
      " \n",
      " K : [[-0.44510571 -1.15527739 -0.03693768  0.92799771  0.25634736 -0.7138885\n",
      "   0.02913203 -1.19107762]\n",
      " [-1.15198742  0.00279137 -0.14984311 -0.16562673  0.66912483 -0.48748744\n",
      "  -1.70468102  0.573068  ]\n",
      " [-0.20930491  0.37378326  0.61672216  1.24796994 -0.16630931  0.03058528\n",
      "   0.25065041  1.92178146]\n",
      " [-0.72183568 -0.11487186 -0.22456696 -0.93751008 -0.25207383  1.82351633\n",
      "   1.68363162 -0.92528114]] \n",
      " \n",
      " V : [[-0.51893399 -1.51751563 -0.31213065 -2.35075835 -0.97956957  1.27952883\n",
      "  -0.44395342 -0.98368081]\n",
      " [ 0.59994242  0.16621628 -1.24751619 -1.84804286  2.90028913 -1.80809471\n",
      "   0.43734931 -1.17480488]\n",
      " [ 0.76665642 -0.71847845 -2.25837448  0.44847955  0.03172351  1.39750692\n",
      "   0.33426665  0.11888227]\n",
      " [ 0.79966335 -0.19547868 -0.17571385 -0.99931191  0.2413304   2.2910753\n",
      "   2.33902608 -1.88098076]] \n"
     ]
    }
   ],
   "source": [
    "L, d_k, d_v = 4, 8, 8\n",
    "\n",
    "q = np.random.randn(L, d_k)\n",
    "k = np.random.randn(L, d_k)\n",
    "v = np.random.randn(L, d_v)\n",
    "\n",
    "print(f\"Q : {q} \\n \\n K : {k} \\n \\n V : {v} \")"
   ]
  },
  {
   "cell_type": "markdown",
   "id": "9a08d714-efd0-4638-992b-5bcf112f6d9a",
   "metadata": {},
   "source": [
    "## Self attention"
   ]
  },
  {
   "cell_type": "code",
   "execution_count": 9,
   "id": "16dd843d-f680-4ebb-ab8a-d857a56ca446",
   "metadata": {},
   "outputs": [
    {
     "data": {
      "text/plain": [
       "array([[-0.07165688,  0.05839097,  0.08877678, -0.791131  ],\n",
       "       [ 0.79744836, -0.8592617 , -0.42849043, -0.03772866],\n",
       "       [-1.18467504,  0.63504127,  0.64029873,  0.61893284],\n",
       "       [-0.80125949, -0.65729619, -0.51443423,  0.59895786]])"
      ]
     },
     "execution_count": 9,
     "metadata": {},
     "output_type": "execute_result"
    }
   ],
   "source": [
    "scaled = np.matmul(q,k.T)/math.sqrt(d_k)\n",
    "scaled"
   ]
  },
  {
   "cell_type": "markdown",
   "id": "9bee267a-753a-4c31-888d-7a5cca22ebd5",
   "metadata": {},
   "source": [
    "## Masking"
   ]
  },
  {
   "cell_type": "code",
   "execution_count": 21,
   "id": "54cf6314-a796-4d3f-b9b0-792dcedcff53",
   "metadata": {},
   "outputs": [
    {
     "data": {
      "text/plain": [
       "array([[-0.07165688,        -inf,        -inf,        -inf],\n",
       "       [ 0.79744836, -0.8592617 ,        -inf,        -inf],\n",
       "       [-1.18467504,  0.63504127,  0.64029873,        -inf],\n",
       "       [-0.80125949, -0.65729619, -0.51443423,  0.59895786]])"
      ]
     },
     "execution_count": 21,
     "metadata": {},
     "output_type": "execute_result"
    }
   ],
   "source": [
    "#Used in the decoder part of the transformer\n",
    "mask = np.triu(np.ones(L), k=1) \n",
    "mask[mask==1] = -np.inf\n",
    "mask+scaled"
   ]
  },
  {
   "cell_type": "markdown",
   "id": "f8aade7b-1fee-4009-b3ac-74ca4cbdcd1a",
   "metadata": {},
   "source": [
    "## Softmax"
   ]
  },
  {
   "cell_type": "code",
   "execution_count": 23,
   "id": "921295af-b3d3-4f19-bb0a-0a45fd607b4a",
   "metadata": {},
   "outputs": [],
   "source": [
    "def softmax(x) : \n",
    "    return (np.exp(x).T/np.sum(np.exp(x), axis=-1)).T"
   ]
  },
  {
   "cell_type": "code",
   "execution_count": 24,
   "id": "e375e359-e9da-462d-8a58-b2bc0bfdeb20",
   "metadata": {},
   "outputs": [],
   "source": [
    "attention = softmax(scaled+mask)"
   ]
  },
  {
   "cell_type": "code",
   "execution_count": 25,
   "id": "c11f05ea-fd36-47d5-8a8a-6d008b328db5",
   "metadata": {},
   "outputs": [
    {
     "data": {
      "text/plain": [
       "array([[1.        , 0.        , 0.        , 0.        ],\n",
       "       [0.83979587, 0.16020413, 0.        , 0.        ],\n",
       "       [0.07477899, 0.46139443, 0.46382658, 0.        ],\n",
       "       [0.13257123, 0.15309879, 0.17661026, 0.53771972]])"
      ]
     },
     "execution_count": 25,
     "metadata": {},
     "output_type": "execute_result"
    }
   ],
   "source": [
    "attention"
   ]
  },
  {
   "cell_type": "code",
   "execution_count": 26,
   "id": "296bc199-79b5-4c0c-85c0-de7884513b52",
   "metadata": {},
   "outputs": [],
   "source": [
    "new_v = np.matmul(attention, v)"
   ]
  },
  {
   "cell_type": "code",
   "execution_count": 27,
   "id": "f27cb485-bd48-4660-985c-8eb527e838b5",
   "metadata": {},
   "outputs": [
    {
     "data": {
      "text/plain": [
       "array([[-0.51893399, -1.51751563, -0.31213065, -2.35075835, -0.97956957,\n",
       "         1.27952883, -0.44395342, -0.98368081],\n",
       "       [-0.33968537, -1.24777483, -0.46198328, -2.27022125, -0.3580002 ,\n",
       "         0.7848788 , -0.30276508, -1.01429967],\n",
       "       [ 0.59360036, -0.37003642, -1.64643195, -0.82044728,  1.27964024,\n",
       "        -0.0903621 ,  0.32363391, -0.56046633],\n",
       "       [ 0.58844888, -0.40773481, -0.72570967, -1.05271969,  0.44953883,\n",
       "         1.37158202,  1.32487756, -1.3007136 ]])"
      ]
     },
     "execution_count": 27,
     "metadata": {},
     "output_type": "execute_result"
    }
   ],
   "source": [
    "new_v"
   ]
  },
  {
   "cell_type": "code",
   "execution_count": null,
   "id": "9911197c-4db4-43cb-b466-8fef46ffdbbf",
   "metadata": {},
   "outputs": [],
   "source": []
  }
 ],
 "metadata": {
  "kernelspec": {
   "display_name": "Python 3 (ipykernel)",
   "language": "python",
   "name": "python3"
  },
  "language_info": {
   "codemirror_mode": {
    "name": "ipython",
    "version": 3
   },
   "file_extension": ".py",
   "mimetype": "text/x-python",
   "name": "python",
   "nbconvert_exporter": "python",
   "pygments_lexer": "ipython3",
   "version": "3.12.3"
  }
 },
 "nbformat": 4,
 "nbformat_minor": 5
}
